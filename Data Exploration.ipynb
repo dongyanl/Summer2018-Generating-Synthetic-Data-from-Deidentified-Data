{
 "cells": [
  {
   "cell_type": "code",
   "execution_count": 81,
   "metadata": {},
   "outputs": [],
   "source": [
    "import pandas as pd\n",
    "import difflib\n",
    "from datetime import datetime"
   ]
  },
  {
   "cell_type": "code",
   "execution_count": 10,
   "metadata": {},
   "outputs": [],
   "source": [
    "# Loading data\n",
    "df = pd.read_csv(\"Geometry Area (1996-97) [2017 Summer School].txt\", delimiter=\"\\t\")"
   ]
  },
  {
   "cell_type": "code",
   "execution_count": 12,
   "metadata": {},
   "outputs": [],
   "source": [
    "columns = list(df.columns)"
   ]
  },
  {
   "cell_type": "code",
   "execution_count": 16,
   "metadata": {},
   "outputs": [],
   "source": [
    "datatype = dict(df.dtypes)"
   ]
  },
  {
   "cell_type": "code",
   "execution_count": 22,
   "metadata": {
    "scrolled": true
   },
   "outputs": [
    {
     "name": "stdout",
     "output_type": "stream",
     "text": [
      "Index([u'Row', u'Sample Name', u'Transaction Id', u'Anon Student Id',\n",
      "       u'Session Id', u'Time', u'Time Zone', u'Duration (sec)',\n",
      "       u'Student Response Type', u'Student Response Subtype',\n",
      "       u'Tutor Response Type', u'Tutor Response Subtype', u'Level (Unit)',\n",
      "       u'Problem Name', u'Problem View', u'Problem Start Time', u'Step Name',\n",
      "       u'Attempt At Step', u'Is Last Attempt', u'Outcome', u'Selection',\n",
      "       u'Action', u'Input', u'Feedback Text', u'Feedback Classification',\n",
      "       u'Help Level', u'Total Num Hints', u'KC (Geometry)',\n",
      "       u'KC Category (Geometry)', u'KC (Textbook)', u'KC Category (Textbook)',\n",
      "       u'KC (Single-KC)', u'KC Category (Single-KC)', u'KC (Unique-step)',\n",
      "       u'KC Category (Unique-step)', u'KC (NewModel)',\n",
      "       u'KC Category (NewModel)', u'KC (NNEWWW)', u'KC Category (NNEWWW)',\n",
      "       u'KC (New)', u'KC Category (New)', u'KC (MyKC)', u'KC Category (MyKC)',\n",
      "       u'KC (MJB-SQRECT-Merge)', u'KC Category (MJB-SQRECT-Merge)',\n",
      "       u'KC (KRE_circle_area)', u'KC Category (KRE_circle_area)',\n",
      "       u'KC (Textbook-test)', u'KC Category (Textbook-test)', u'KC (Khushboo)',\n",
      "       u'KC Category (Khushboo)', u'KC (Zhulin_Textbook11_SquareRectMerge)',\n",
      "       u'KC Category (Zhulin_Textbook11_SquareRectMerge)',\n",
      "       u'KC (new KC model name)', u'KC Category (new KC model name)',\n",
      "       u'School', u'Class', u'CF (Factor add-or-m)', u'CF (Factor backward)',\n",
      "       u'CF (Factor base-formula-p)', u'CF (Factor base-or-height)',\n",
      "       u'CF (Factor basic-shape)', u'CF (Factor cir-quad)',\n",
      "       u'CF (Factor circle-formula)', u'CF (Factor circle-given)',\n",
      "       u'CF (Factor circle-goal)', u'CF (Factor embedd3-tri-reg_prob_fix)',\n",
      "       u'CF (Factor embeddedness)', u'CF (Factor figure-part)',\n",
      "       u'CF (Factor figure-type)',\n",
      "       u'CF (Factor non-standard-orientation-or-shape)',\n",
      "       u'CF (Factor parallelogram)', u'CF (Factor parallelogram-type)',\n",
      "       u'CF (Factor repeat)', u'CF (Factor required)',\n",
      "       u'CF (Factor trapezoid-part)'],\n",
      "      dtype='object')\n"
     ]
    }
   ],
   "source": [
    "print df.columns"
   ]
  },
  {
   "cell_type": "code",
   "execution_count": 54,
   "metadata": {},
   "outputs": [
    {
     "data": {
      "text/plain": [
       "dtype('O')"
      ]
     },
     "execution_count": 54,
     "metadata": {},
     "output_type": "execute_result"
    }
   ],
   "source": [
    "datatype['Transaction Id']"
   ]
  },
  {
   "cell_type": "markdown",
   "metadata": {},
   "source": [
    "## Data Statistics"
   ]
  },
  {
   "cell_type": "markdown",
   "metadata": {},
   "source": [
    "### ID Features"
   ]
  },
  {
   "cell_type": "code",
   "execution_count": 164,
   "metadata": {},
   "outputs": [],
   "source": [
    "def get_overlap(l):\n",
    "    s1 = l[0]\n",
    "    for i,s2 in enumerate(l):    \n",
    "        s = difflib.SequenceMatcher(None, s1, s2)\n",
    "        pos_a, pos_b, size = s.find_longest_match(0, len(s1), 0, len(s2)) \n",
    "        s1 = s1[pos_a:pos_a+size]\n",
    "    return s1"
   ]
  },
  {
   "cell_type": "code",
   "execution_count": 65,
   "metadata": {},
   "outputs": [],
   "source": [
    "transid_len = [len(i) for i in df['Transaction Id']]\n",
    "stuid_len = [len(i) for i in df['Anon Student Id']]\n",
    "sessionid_len = [len(i) for i in df['Session Id']]"
   ]
  },
  {
   "cell_type": "code",
   "execution_count": 73,
   "metadata": {},
   "outputs": [
    {
     "name": "stdout",
     "output_type": "stream",
     "text": [
      "\u001b[1mTransaction Id\u001b[0;0m\n",
      "datatype: object\n",
      "num of unique values: 6778\n",
      "max length: 32\n",
      "min length: 32\n",
      "overlap characters: \n"
     ]
    }
   ],
   "source": [
    "print ('\\033[1m' + 'Transaction Id' + '\\033[0;0m') \n",
    "print ('datatype: ' + str(datatype['Transaction Id']))\n",
    "print ('num of unique values: ' + str(len(df['Transaction Id'].unique())))\n",
    "print ('max length: ' + str(max(transid_len)))\n",
    "print ('min length: ' + str(min(transid_len)))\n",
    "print ('overlap characters: ' + get_overlap(df['Transaction Id']))"
   ]
  },
  {
   "cell_type": "code",
   "execution_count": 76,
   "metadata": {},
   "outputs": [
    {
     "name": "stdout",
     "output_type": "stream",
     "text": [
      "\u001b[1mAnon Student Id\u001b[0;0m\n",
      "datatype: object\n",
      "num of unique values: 59\n",
      "max length: 36\n",
      "min length: 36\n",
      "overlap characters: Stu_\n"
     ]
    }
   ],
   "source": [
    "print ('\\033[1m' + 'Anon Student Id' + '\\033[0;0m') \n",
    "print ('datatype: ' + str(datatype['Anon Student Id']))\n",
    "print ('num of unique values: ' + str(len(df['Anon Student Id'].unique())))\n",
    "print ('max length: ' + str(max(stuid_len)))\n",
    "print ('min length: ' + str(min(stuid_len)))\n",
    "print ('overlap characters: ' + get_overlap(df['Anon Student Id']))"
   ]
  },
  {
   "cell_type": "code",
   "execution_count": 77,
   "metadata": {
    "scrolled": true
   },
   "outputs": [
    {
     "name": "stdout",
     "output_type": "stream",
     "text": [
      "\u001b[1mSession Id\u001b[0;0m\n",
      "datatype: object\n",
      "num of unique values: 59\n",
      "max length: 30\n",
      "min length: 30\n",
      "overlap characters: GEO-408d5ed7:10e14be5d3a:-\n"
     ]
    }
   ],
   "source": [
    "print ('\\033[1m' + 'Session Id' + '\\033[0;0m') \n",
    "print ('datatype: ' + str(datatype['Session Id']))\n",
    "print ('num of unique values: ' + str(len(df['Session Id'].unique())))\n",
    "print ('max length: ' + str(max(sessionid_len)))\n",
    "print ('min length: ' + str(min(sessionid_len)))\n",
    "print ('overlap characters: ' + get_overlap(df['Session Id']))"
   ]
  },
  {
   "cell_type": "markdown",
   "metadata": {},
   "source": [
    "### Time & Duration Features"
   ]
  },
  {
   "cell_type": "code",
   "execution_count": 84,
   "metadata": {},
   "outputs": [],
   "source": [
    "df['Time'] = df['Time'].apply(lambda s : datetime.strptime(s, \"%Y-%m-%d %H:%M:%S\"))\n",
    "datatype = dict(df.dtypes)"
   ]
  },
  {
   "cell_type": "code",
   "execution_count": 128,
   "metadata": {},
   "outputs": [
    {
     "name": "stdout",
     "output_type": "stream",
     "text": [
      "\u001b[1mTime\u001b[0;0m\n",
      "datatype: datetime64[ns]\n",
      "num of unique values: 3365\n",
      "max: 1996-02-01 02:00:12\n",
      "min: 1996-02-01 00:00:00\n",
      "mode: 1996-02-01 00:02:12\n"
     ]
    }
   ],
   "source": [
    "print ('\\033[1m' + 'Time' + '\\033[0;0m') \n",
    "print ('datatype: ' + str(datatype['Time']))\n",
    "print ('num of unique values: ' + str(len(df['Time'].unique())))\n",
    "print ('max: ' + str(df['Time'].max()))\n",
    "print ('min: ' + str(df['Time'].min()))\n",
    "print ('mode: ' + str(df['Time'].mode()[0]))"
   ]
  },
  {
   "cell_type": "code",
   "execution_count": 121,
   "metadata": {
    "scrolled": true
   },
   "outputs": [
    {
     "name": "stdout",
     "output_type": "stream",
     "text": [
      "\u001b[1mDuration (sec)\u001b[0;0m\n",
      "datatype: int64\n",
      "max: 484\n",
      "min: 0\n",
      "median: 4.0\n",
      "mean: 11.0656535851\n",
      "std: 22.2713350075\n"
     ]
    }
   ],
   "source": [
    "print ('\\033[1m' + 'Duration (sec)' + '\\033[0;0m') \n",
    "print ('datatype: ' + str(datatype['Duration (sec)']))\n",
    "print ('max: ' + str(df['Duration (sec)'].max()))\n",
    "print ('min: ' + str(df['Duration (sec)'].min()))\n",
    "print ('median: ' + str(df['Duration (sec)'].median()))\n",
    "print ('mean: ' + str(df['Duration (sec)'].mean()))\n",
    "print ('std: ' + str(df['Duration (sec)'].std()))"
   ]
  },
  {
   "cell_type": "code",
   "execution_count": null,
   "metadata": {},
   "outputs": [],
   "source": [
    "df['Problem Start Time'] = df['Problem Start Time'].apply(lambda s : datetime.strptime(s, \"%Y-%m-%d %H:%M:%S\"))\n",
    "datatype = dict(df.dtypes)"
   ]
  },
  {
   "cell_type": "code",
   "execution_count": 127,
   "metadata": {},
   "outputs": [
    {
     "name": "stdout",
     "output_type": "stream",
     "text": [
      "\u001b[1mProblem Start Time\u001b[0;0m\n",
      "datatype: datetime64[ns]\n",
      "num of unique values: 1219\n",
      "max: 1996-02-01 01:58:54\n",
      "min: 1996-02-01 00:00:00\n",
      "mode: 1996-02-01 00:36:33\n"
     ]
    }
   ],
   "source": [
    "print ('\\033[1m' + 'Problem Start Time' + '\\033[0;0m') \n",
    "print ('datatype: ' + str(datatype['Problem Start Time']))\n",
    "print ('num of unique values: ' + str(len(df['Problem Start Time'].unique())))\n",
    "print ('max: ' + str(df['Problem Start Time'].max()))\n",
    "print ('min: ' + str(df['Problem Start Time'].min()))\n",
    "print ('mode: ' + str(df['Problem Start Time'].mode()[0]))"
   ]
  },
  {
   "cell_type": "markdown",
   "metadata": {},
   "source": [
    "### Problem & Step Features"
   ]
  },
  {
   "cell_type": "code",
   "execution_count": 150,
   "metadata": {},
   "outputs": [
    {
     "name": "stdout",
     "output_type": "stream",
     "text": [
      "\u001b[1mProblem Name\u001b[0;0m\n",
      "datatype: object\n",
      "num of unique values: 40\n",
      "overlap characters: \n"
     ]
    }
   ],
   "source": [
    "print ('\\033[1m' + 'Problem Name' + '\\033[0;0m') \n",
    "print ('datatype: ' + str(datatype['Problem Name']))\n",
    "print ('num of unique values: ' + str(len(df['Problem Name'].unique())))\n",
    "print ('overlap characters: ' + get_overlap(df['Problem Name']))"
   ]
  },
  {
   "cell_type": "code",
   "execution_count": 120,
   "metadata": {
    "scrolled": false
   },
   "outputs": [
    {
     "name": "stdout",
     "output_type": "stream",
     "text": [
      "\u001b[1mProblem View\u001b[0;0m\n",
      "datatype: int64\n",
      "max: 6\n",
      "min: 1\n",
      "median: 1.0\n",
      "mean: 1.42283859546\n",
      "std: 0.78236281372\n"
     ]
    }
   ],
   "source": [
    "print ('\\033[1m' + 'Problem View' + '\\033[0;0m') \n",
    "print ('datatype: ' + str(datatype['Problem View']))\n",
    "print ('max: ' + str(df['Problem View'].max()))\n",
    "print ('min: ' + str(df['Problem View'].min()))\n",
    "print ('median: ' + str(df['Problem View'].median()))\n",
    "print ('mean: ' + str(df['Problem View'].mean()))\n",
    "print ('std: ' + str(df['Problem View'].std()))"
   ]
  },
  {
   "cell_type": "code",
   "execution_count": 149,
   "metadata": {},
   "outputs": [
    {
     "name": "stdout",
     "output_type": "stream",
     "text": [
      "\u001b[1mStep Name\u001b[0;0m\n",
      "datatype: object\n",
      "num of unique values: 78\n",
      "overlap characters:  QUESTION\n"
     ]
    }
   ],
   "source": [
    "print ('\\033[1m' + 'Step Name' + '\\033[0;0m') \n",
    "print ('datatype: ' + str(datatype['Step Name']))\n",
    "print ('num of unique values: ' + str(len(df['Step Name'].unique())))\n",
    "print ('overlap characters: ' + get_overlap(df['Step Name']))"
   ]
  },
  {
   "cell_type": "code",
   "execution_count": 130,
   "metadata": {},
   "outputs": [
    {
     "name": "stdout",
     "output_type": "stream",
     "text": [
      "\u001b[1mAttempt At Step\u001b[0;0m\n",
      "datatype: int64\n",
      "max: 9\n",
      "min: 1\n",
      "median: 1.0\n",
      "mean: 1.29300678666\n",
      "std: 0.584600031345\n"
     ]
    }
   ],
   "source": [
    "print ('\\033[1m' + 'Attempt At Step' + '\\033[0;0m') \n",
    "print ('datatype: ' + str(datatype['Attempt At Step']))\n",
    "print ('max: ' + str(df['Attempt At Step'].max()))\n",
    "print ('min: ' + str(df['Attempt At Step'].min()))\n",
    "print ('median: ' + str(df['Attempt At Step'].median()))\n",
    "print ('mean: ' + str(df['Attempt At Step'].mean()))\n",
    "print ('std: ' + str(df['Attempt At Step'].std()))"
   ]
  },
  {
   "cell_type": "code",
   "execution_count": 139,
   "metadata": {
    "scrolled": false
   },
   "outputs": [
    {
     "name": "stdout",
     "output_type": "stream",
     "text": [
      "\u001b[1mIs Last Attempt\u001b[0;0m\n",
      "datatype: int64\n",
      "num of 0s: 3187\n",
      "num of 1s: 3591\n"
     ]
    }
   ],
   "source": [
    "print ('\\033[1m' + 'Is Last Attempt' + '\\033[0;0m') \n",
    "print ('datatype: ' + str(datatype['Is Last Attempt']))\n",
    "print ('num of 0s: '+ str(df['Is Last Attempt'].value_counts()[0]))\n",
    "print ('num of 1s: '+ str(df['Is Last Attempt'].value_counts()[1]))"
   ]
  },
  {
   "cell_type": "code",
   "execution_count": 146,
   "metadata": {},
   "outputs": [
    {
     "name": "stdout",
     "output_type": "stream",
     "text": [
      "\u001b[1mOutcome\u001b[0;0m\n",
      "datatype: object\n",
      "num of CORRECT: 5431\n",
      "num of INCORRECT: 1347\n"
     ]
    }
   ],
   "source": [
    "print ('\\033[1m' + 'Outcome' + '\\033[0;0m') \n",
    "print ('datatype: ' + str(datatype['Outcome']))\n",
    "print ('num of CORRECT: ' + str(df['Outcome'].value_counts()['CORRECT']))\n",
    "print ('num of INCORRECT: ' + str(df['Outcome'].value_counts()['INCORRECT']))"
   ]
  },
  {
   "cell_type": "code",
   "execution_count": 145,
   "metadata": {},
   "outputs": [
    {
     "data": {
      "text/plain": [
       "CORRECT      5431\n",
       "INCORRECT    1347\n",
       "Name: Outcome, dtype: int64"
      ]
     },
     "execution_count": 145,
     "metadata": {},
     "output_type": "execute_result"
    }
   ],
   "source": [
    "df['Outcome'].value_counts()"
   ]
  },
  {
   "cell_type": "code",
   "execution_count": 148,
   "metadata": {
    "scrolled": true
   },
   "outputs": [
    {
     "name": "stdout",
     "output_type": "stream",
     "text": [
      "\u001b[1mSelection\u001b[0;0m\n",
      "datatype: object\n",
      "num of unique values: 78\n",
      "overlap characters:  QUESTION\n"
     ]
    }
   ],
   "source": [
    "print ('\\033[1m' + 'Selection' + '\\033[0;0m') \n",
    "print ('datatype: ' + str(datatype['Selection']))\n",
    "print ('num of unique values: ' + str(len(df['Selection'].unique())))\n",
    "print ('overlap characters: ' + get_overlap(df['Selection']))"
   ]
  },
  {
   "cell_type": "markdown",
   "metadata": {},
   "source": [
    "### KC Features"
   ]
  },
  {
   "cell_type": "code",
   "execution_count": 156,
   "metadata": {},
   "outputs": [],
   "source": [
    "KC = [i for i in columns if i.startswith('KC (')]"
   ]
  },
  {
   "cell_type": "code",
   "execution_count": 166,
   "metadata": {},
   "outputs": [
    {
     "name": "stdout",
     "output_type": "stream",
     "text": [
      "\u001b[1mKC (Geometry)\u001b[0;0m\n",
      "datatype: object\n",
      "num of unique values: 1\n",
      "\n",
      "\u001b[1mKC (Textbook)\u001b[0;0m\n",
      "datatype: object\n",
      "num of unique values: 12\n",
      "\n",
      "\u001b[1mKC (Single-KC)\u001b[0;0m\n",
      "datatype: object\n",
      "num of unique values: 1\n",
      "\n",
      "\u001b[1mKC (Unique-step)\u001b[0;0m\n",
      "datatype: object\n",
      "num of unique values: 133\n",
      "\n",
      "\u001b[1mKC (NewModel)\u001b[0;0m\n",
      "datatype: object\n",
      "num of unique values: 11\n",
      "\n",
      "\u001b[1mKC (NNEWWW)\u001b[0;0m\n",
      "datatype: object\n",
      "num of unique values: 12\n",
      "\n",
      "\u001b[1mKC (New)\u001b[0;0m\n",
      "datatype: object\n",
      "num of unique values: 11\n",
      "\n",
      "\u001b[1mKC (MyKC)\u001b[0;0m\n",
      "datatype: object\n",
      "num of unique values: 12\n",
      "\n",
      "\u001b[1mKC (MJB-SQRECT-Merge)\u001b[0;0m\n",
      "datatype: object\n",
      "num of unique values: 11\n",
      "\n",
      "\u001b[1mKC (KRE_circle_area)\u001b[0;0m\n",
      "datatype: object\n",
      "num of unique values: 13\n",
      "\n",
      "\u001b[1mKC (Textbook-test)\u001b[0;0m\n",
      "datatype: object\n",
      "num of unique values: 11\n",
      "\n",
      "\u001b[1mKC (Khushboo)\u001b[0;0m\n",
      "datatype: object\n",
      "num of unique values: 6\n",
      "\n",
      "\u001b[1mKC (Zhulin_Textbook11_SquareRectMerge)\u001b[0;0m\n",
      "datatype: object\n",
      "num of unique values: 11\n",
      "\n",
      "\u001b[1mKC (new KC model name)\u001b[0;0m\n",
      "datatype: object\n",
      "num of unique values: 12\n",
      "\n"
     ]
    }
   ],
   "source": [
    "for k in KC:\n",
    "    print ('\\033[1m' + k + '\\033[0;0m') \n",
    "    print ('datatype: ' + str(datatype[k]))\n",
    "    print ('num of unique values: ' + str(len(df[k].unique())))\n",
    "    print ('')"
   ]
  },
  {
   "cell_type": "markdown",
   "metadata": {},
   "source": [
    "### CF Features"
   ]
  },
  {
   "cell_type": "code",
   "execution_count": null,
   "metadata": {},
   "outputs": [],
   "source": []
  },
  {
   "cell_type": "markdown",
   "metadata": {},
   "source": [
    "### Other Features"
   ]
  },
  {
   "cell_type": "code",
   "execution_count": 104,
   "metadata": {},
   "outputs": [
    {
     "name": "stdout",
     "output_type": "stream",
     "text": [
      "\u001b[1mTime Zone\u001b[0;0m\n",
      "datatype: object\n",
      "num of unique values: 1\n",
      "overlap characters: US/Eastern\n"
     ]
    }
   ],
   "source": [
    "print ('\\033[1m' + 'Time Zone' + '\\033[0;0m') \n",
    "print ('datatype: ' + str(datatype['Time Zone']))\n",
    "print ('num of unique values: ' + str(len(df['Time Zone'].unique())))\n",
    "print ('overlap characters: ' + get_overlap(df['Time Zone']))"
   ]
  },
  {
   "cell_type": "code",
   "execution_count": 111,
   "metadata": {},
   "outputs": [
    {
     "name": "stdout",
     "output_type": "stream",
     "text": [
      "\u001b[1mStudent Response Type\u001b[0;0m\n",
      "datatype: object\n",
      "num of unique values: 1\n",
      "overlap characters: ATTEMPT\n"
     ]
    }
   ],
   "source": [
    "print ('\\033[1m' + 'Student Response Type' + '\\033[0;0m') \n",
    "print ('datatype: ' + str(datatype['Student Response Type']))\n",
    "print ('num of unique values: ' + str(len(df['Student Response Type'].unique())))\n",
    "print ('overlap characters: ' + get_overlap(df['Student Response Type']))"
   ]
  },
  {
   "cell_type": "code",
   "execution_count": 117,
   "metadata": {},
   "outputs": [
    {
     "name": "stdout",
     "output_type": "stream",
     "text": [
      "\u001b[1mTutor Response Type\u001b[0;0m\n",
      "datatype: object\n",
      "num of unique values: 1\n",
      "overlap characters: RESULT\n"
     ]
    }
   ],
   "source": [
    "print ('\\033[1m' + 'Tutor Response Type' + '\\033[0;0m') \n",
    "print ('datatype: ' + str(datatype['Tutor Response Type']))\n",
    "print ('num of unique values: ' + str(len(df['Tutor Response Type'].unique())))\n",
    "print ('overlap characters: ' + get_overlap(df['Tutor Response Type']))"
   ]
  },
  {
   "cell_type": "code",
   "execution_count": 118,
   "metadata": {},
   "outputs": [
    {
     "name": "stdout",
     "output_type": "stream",
     "text": [
      "\u001b[1mLevel (Unit)\u001b[0;0m\n",
      "datatype: object\n",
      "num of unique values: 1\n",
      "overlap characters: Area\n"
     ]
    }
   ],
   "source": [
    "print ('\\033[1m' + 'Level (Unit)' + '\\033[0;0m') \n",
    "print ('datatype: ' + str(datatype['Level (Unit)']))\n",
    "print ('num of unique values: ' + str(len(df['Level (Unit)'].unique())))\n",
    "print ('overlap characters: ' + get_overlap(df['Level (Unit)']))"
   ]
  },
  {
   "cell_type": "code",
   "execution_count": null,
   "metadata": {},
   "outputs": [],
   "source": []
  }
 ],
 "metadata": {
  "anaconda-cloud": {},
  "kernelspec": {
   "display_name": "Python [conda env:anaconda2]",
   "language": "python",
   "name": "conda-env-anaconda2-py"
  },
  "language_info": {
   "codemirror_mode": {
    "name": "ipython",
    "version": 2
   },
   "file_extension": ".py",
   "mimetype": "text/x-python",
   "name": "python",
   "nbconvert_exporter": "python",
   "pygments_lexer": "ipython2",
   "version": "2.7.14"
  }
 },
 "nbformat": 4,
 "nbformat_minor": 2
}
